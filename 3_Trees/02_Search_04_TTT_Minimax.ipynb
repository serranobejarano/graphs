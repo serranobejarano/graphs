{
 "cells": [
  {
   "cell_type": "markdown",
   "metadata": {},
   "source": [
    "# Solving Tic Tac Toe using minimax search in Python"
   ]
  },
  {
   "cell_type": "markdown",
   "metadata": {},
   "source": [
    "\n",
    "![Minimax search of tic-tac-toe](img/tictac_minimax.png \"Minimax Search in Tic-tac-toe\")"
   ]
  },
  {
   "cell_type": "markdown",
   "metadata": {},
   "source": [
    "## We take an implementation\n",
    "\n",
    "This is the main function, we read it, identify the missing parts and start completing.\n",
    "\n",
    "  - code: https://github.com/agrawal-rohit/playing-games-with-python\n",
    "  - post: https://towardsdatascience.com/lets-beat-games-using-a-bunch-of-code-part-1-tic-tac-toe-1543e981fec1"
   ]
  },
  {
   "cell_type": "code",
   "execution_count": null,
   "metadata": {},
   "outputs": [],
   "source": [
    "from math import inf as infinity\n",
    "\n",
    "def getBestMove(state, player):\n",
    "    '''\n",
    "    Minimax Algorithm\n",
    "    '''\n",
    "    winner_loser, done = check_current_state(state)\n",
    "    if done == \"Done\" and winner_loser == 'O': # If AI won\n",
    "        return 1\n",
    "    elif done == \"Done\" and winner_loser == 'X': # If Human won\n",
    "        return -1\n",
    "    elif done == \"Draw\":    # Draw condition\n",
    "        return 0\n",
    "\n",
    "    moves = []\n",
    "    empty_cells = []\n",
    "    for i in range(3):\n",
    "        for j in range(3):\n",
    "            if state[i][j] is ' ':\n",
    "                empty_cells.append(i*3 + (j+1))\n",
    "\n",
    "    for empty_cell in empty_cells:\n",
    "        move = {}\n",
    "        move['index'] = empty_cell\n",
    "        new_state = copy_game_state(state)\n",
    "        play_move(new_state, player, empty_cell)\n",
    "\n",
    "        if player == 'O':    # If AI\n",
    "            result = getBestMove(new_state, 'X')    # make more depth tree for human\n",
    "            move['score'] = result\n",
    "        else:\n",
    "            result = getBestMove(new_state, 'O')    # make more depth tree for AI\n",
    "            move['score'] = result\n",
    "\n",
    "        moves.append(move)\n",
    "\n",
    "    # Find best move\n",
    "    best_move = None\n",
    "    if player == 'O':   # If AI player\n",
    "        best = -infinity\n",
    "        for move in moves:\n",
    "            if move['score'] > best:\n",
    "                best = move['score']\n",
    "                best_move = move['index']\n",
    "    else:\n",
    "        best = infinity\n",
    "        for move in moves:\n",
    "            if move['score'] < best:\n",
    "                best = move['score']\n",
    "                best_move = move['index']\n",
    "\n",
    "    return best_move\n"
   ]
  },
  {
   "cell_type": "markdown",
   "metadata": {},
   "source": [
    "The first missing part is: check_current_state(). It is a board evaluation function returning a duple: (winner, final_state)\n",
    "\n",
    "When the final state is 'Done', winner is either 'X' (human) or 'O' (us), when the final state is 'Draw' or 'Not Done', winner is None."
   ]
  },
  {
   "cell_type": "code",
   "execution_count": null,
   "metadata": {},
   "outputs": [],
   "source": [
    "def check_current_state(game_state):\n",
    "    # Check if draw\n",
    "    draw_flag = 0\n",
    "    for i in range(3):\n",
    "        for j in range(3):\n",
    "            if game_state[i][j] is ' ':\n",
    "                draw_flag = 1\n",
    "    if draw_flag is 0:\n",
    "        return None, \"Draw\"\n",
    "\n",
    "    # Check horizontals\n",
    "    if (game_state[0][0] == game_state[0][1] and game_state[0][1] == game_state[0][2] and game_state[0][0] is not ' '):\n",
    "        return game_state[0][0], \"Done\"\n",
    "    if (game_state[1][0] == game_state[1][1] and game_state[1][1] == game_state[1][2] and game_state[1][0] is not ' '):\n",
    "        return game_state[1][0], \"Done\"\n",
    "    if (game_state[2][0] == game_state[2][1] and game_state[2][1] == game_state[2][2] and game_state[2][0] is not ' '):\n",
    "        return game_state[2][0], \"Done\"\n",
    "\n",
    "    # Check verticals\n",
    "    if (game_state[0][0] == game_state[1][0] and game_state[1][0] == game_state[2][0] and game_state[0][0] is not ' '):\n",
    "        return game_state[0][0], \"Done\"\n",
    "    if (game_state[0][1] == game_state[1][1] and game_state[1][1] == game_state[2][1] and game_state[0][1] is not ' '):\n",
    "        return game_state[0][1], \"Done\"\n",
    "    if (game_state[0][2] == game_state[1][2] and game_state[1][2] == game_state[2][2] and game_state[0][2] is not ' '):\n",
    "        return game_state[0][2], \"Done\"\n",
    "\n",
    "    # Check diagonals\n",
    "    if (game_state[0][0] == game_state[1][1] and game_state[1][1] == game_state[2][2] and game_state[0][0] is not ' '):\n",
    "        return game_state[1][1], \"Done\"\n",
    "    if (game_state[2][0] == game_state[1][1] and game_state[1][1] == game_state[0][2] and game_state[2][0] is not ' '):\n",
    "        return game_state[1][1], \"Done\"\n",
    "\n",
    "    return None, \"Not Done\"\n"
   ]
  },
  {
   "cell_type": "markdown",
   "metadata": {},
   "source": [
    "The second missing part is: copy_game_state()."
   ]
  },
  {
   "cell_type": "code",
   "execution_count": null,
   "metadata": {},
   "outputs": [],
   "source": [
    "def copy_game_state(state):\n",
    "    new_state = [[' ',' ',' '],[' ',' ',' '],[' ',' ',' ']]\n",
    "    for i in range(3):\n",
    "        for j in range(3):\n",
    "            new_state[i][j] = state[i][j]\n",
    "    return new_state\n"
   ]
  },
  {
   "cell_type": "markdown",
   "metadata": {},
   "source": [
    "The last missing part is play_move(). It updates state by placing the sign (player) on the empty cell (blocknum) or raises an error when the cell is not empty."
   ]
  },
  {
   "cell_type": "code",
   "execution_count": null,
   "metadata": {},
   "outputs": [],
   "source": [
    "def play_move(state, player, block_num):\n",
    "    if state[int((block_num-1)/3)][(block_num-1)%3] is ' ':\n",
    "        state[int((block_num-1)/3)][(block_num-1)%3] = player\n",
    "    else:\n",
    "        raise(AssertionError)\n"
   ]
  },
  {
   "cell_type": "markdown",
   "metadata": {},
   "source": [
    "## Let's play!\n",
    "\n",
    "This may be useful."
   ]
  },
  {
   "cell_type": "code",
   "execution_count": null,
   "metadata": {},
   "outputs": [],
   "source": [
    "def print_board(board):\n",
    "    for line in board:\n",
    "        print(''.join(line).replace(' ', ' · ').replace('O', ' O ').replace('X', ' X '))"
   ]
  },
  {
   "cell_type": "markdown",
   "metadata": {},
   "source": [
    "... and an empty board."
   ]
  },
  {
   "cell_type": "code",
   "execution_count": null,
   "metadata": {},
   "outputs": [],
   "source": [
    "board = [[' ',' ',' '], [' ',' ',' '], [' ',' ',' ']]"
   ]
  },
  {
   "cell_type": "markdown",
   "metadata": {},
   "source": [
    "Notebook plays first, you play X. \n",
    "\n",
    "Enter a single digit\n",
    "\n",
    "        1 2 3\n",
    "        4 5 6\n",
    "        7 8 9\n",
    "\n",
    "If you play on a sign, you lose."
   ]
  },
  {
   "cell_type": "code",
   "execution_count": null,
   "metadata": {},
   "outputs": [],
   "source": [
    "while True:\n",
    "    mo = getBestMove(board, 'O')\n",
    "    play_move(board, 'O', mo)\n",
    "    print_board(board)\n",
    "    winner, state = check_current_state(board)\n",
    "    \n",
    "    if state == 'Done' or state == 'Draw':\n",
    "        break\n",
    "    \n",
    "    mx = int(input(\"Your move: \"))\n",
    "    play_move(board, 'X', mx)\n",
    "    winner, state = check_current_state(board)\n",
    "    \n",
    "    if state == 'Done':\n",
    "        break\n",
    "\n",
    "if state == 'Draw':\n",
    "    print('Draw')\n",
    "else:\n",
    "    print('The winner is: ' + winner)\n"
   ]
  },
  {
   "cell_type": "markdown",
   "metadata": {},
   "source": [
    "## Task 1 : Why did you just do an impossible thing?\n",
    "\n",
    "_(Shame on you if you didn't.)_"
   ]
  },
  {
   "cell_type": "code",
   "execution_count": null,
   "metadata": {},
   "outputs": [],
   "source": []
  },
  {
   "cell_type": "markdown",
   "metadata": {},
   "source": [
    "## Task 2 : Criticize the code and the design"
   ]
  },
  {
   "cell_type": "code",
   "execution_count": null,
   "metadata": {},
   "outputs": [],
   "source": []
  },
  {
   "cell_type": "markdown",
   "metadata": {},
   "source": [
    "## Task 3 : Check the code for \"Temporal Difference Learning\"\n",
    "\n",
    "If you enjoyed the code review, you can do the same with the TD part. Same blog post and the repository below:\n",
    "\n",
    "https://github.com/agrawal-rohit/playing-games-with-python/blob/master/Tic%20Tac%20Toe/testing_(HumanvsAI)_ReinforcementLearning.py"
   ]
  },
  {
   "cell_type": "code",
   "execution_count": null,
   "metadata": {},
   "outputs": [],
   "source": []
  }
 ],
 "metadata": {
  "kernelspec": {
   "display_name": "Python 3",
   "language": "python",
   "name": "python3"
  },
  "language_info": {
   "codemirror_mode": {
    "name": "ipython",
    "version": 3
   },
   "file_extension": ".py",
   "mimetype": "text/x-python",
   "name": "python",
   "nbconvert_exporter": "python",
   "pygments_lexer": "ipython3",
   "version": "3.7.3"
  }
 },
 "nbformat": 4,
 "nbformat_minor": 4
}
