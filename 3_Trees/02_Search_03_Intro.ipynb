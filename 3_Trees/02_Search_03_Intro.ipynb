{
 "cells": [
  {
   "cell_type": "code",
   "execution_count": null,
   "metadata": {
    "colab": {},
    "colab_type": "code",
    "id": "qvD9qYQ0vmHW"
   },
   "outputs": [],
   "source": [
    "import networkx as nx \n",
    "import matplotlib.pyplot as plt \n",
    "import numpy as np\n",
    "import seaborn as sns \n",
    "from networkx.algorithms import tree"
   ]
  },
  {
   "cell_type": "markdown",
   "metadata": {
    "colab_type": "text",
    "id": "PBcc8od0vmHa"
   },
   "source": [
    "#  Algoritmos de búsqueda"
   ]
  },
  {
   "cell_type": "markdown",
   "metadata": {
    "colab_type": "text",
    "id": "DZ3g9vL1vmHb"
   },
   "source": [
    "La matriz de acceso de un grafo G, dirigido o no dirigido, puede obtenerse a raíz de la aplicación reiterada de dos métodos diferentes:\n",
    "\n",
    "- BFS: Breadth First Search, Búsqueda en extensión o anchura\n",
    "- DFS: Depth First Search, Búsqueda en profundidad\n",
    "\n",
    "Ambos algoritmos nos permiten _visitar_ todos los vértices y arcos del grafo exactamente uan vez y en un orden específico. \n"
   ]
  },
  {
   "cell_type": "markdown",
   "metadata": {
    "colab_type": "text",
    "id": "M4aIKBk8vmHc"
   },
   "source": [
    "## Algoritmo BFS"
   ]
  },
  {
   "cell_type": "markdown",
   "metadata": {
    "colab_type": "text",
    "id": "od2En2nqvmHd"
   },
   "source": [
    "Este algoritmo hace la búsqueda de nodos por niveles, tal y como puede verse en la imagen"
   ]
  },
  {
   "cell_type": "markdown",
   "metadata": {
    "colab_type": "text",
    "id": "AY9vBQDIvmHe"
   },
   "source": [
    "<img src=\"img/bfs.png\">"
   ]
  },
  {
   "cell_type": "markdown",
   "metadata": {
    "colab_type": "text",
    "id": "ZKF8oga0vmHf"
   },
   "source": [
    "Vamos a empezar implementando el algoritmo nosotros mismos. Tengamos el siguiente grafo, definido como un diccionario, en el que los valores de las claves son sets que contienen los vértices con los que cada vértice está enlazado.\n",
    "Recordemos que un set es un conjunto no ordenador de elementos únicos"
   ]
  },
  {
   "cell_type": "code",
   "execution_count": null,
   "metadata": {
    "colab": {},
    "colab_type": "code",
    "id": "CiUihBQyvmHg"
   },
   "outputs": [],
   "source": [
    "graph = {'A': set(['B', 'C']),\n",
    "         'B': set(['A', 'E', 'D']),\n",
    "         'C': set(['A', 'F']),\n",
    "         'D': set(['B']),\n",
    "         'E': set(['B', 'F']),\n",
    "         'F': set(['C', 'E'])}"
   ]
  },
  {
   "cell_type": "markdown",
   "metadata": {
    "colab_type": "text",
    "id": "irMoTy3zvmHi"
   },
   "source": [
    "Con la siguiente implementación obtenemos el conjunto de vértices accesibles desde el nodo inicial"
   ]
  },
  {
   "cell_type": "code",
   "execution_count": null,
   "metadata": {
    "colab": {},
    "colab_type": "code",
    "id": "eG1EN2igvmHi"
   },
   "outputs": [],
   "source": [
    "def bfs(graph, start):\n",
    "    visited, queue = set(), [start] #inicializamos el conjunto de nodos visitados a un set vacío\n",
    "    while queue:\n",
    "        vertex = queue.pop(0) #pop elimina el ultimo elemento de una lista. Con índice 0 elimina el primero\n",
    "        if vertex not in visited:\n",
    "            visited.add(vertex) #si aún no hemos pasado por el vértice, se añade a la lista de visitados\n",
    "            queue.extend(graph[vertex] - visited) #eliminamos del set de nodos enlazados al nodo de estudio, aquellos por los que ya hemos pasado\n",
    "    return visited"
   ]
  },
  {
   "cell_type": "code",
   "execution_count": null,
   "metadata": {
    "colab": {
     "base_uri": "https://localhost:8080/",
     "height": 34
    },
    "colab_type": "code",
    "executionInfo": {
     "elapsed": 608,
     "status": "ok",
     "timestamp": 1573053243809,
     "user": {
      "displayName": "BBVA 1",
      "photoUrl": "",
      "userId": "06311651594133890427"
     },
     "user_tz": -60
    },
    "id": "EVJNbnpVvmHl",
    "outputId": "54e4fd4a-e6ca-4dda-ac85-0826a2e1848a"
   },
   "outputs": [],
   "source": [
    "bfs(graph, 'A')"
   ]
  },
  {
   "cell_type": "markdown",
   "metadata": {
    "colab_type": "text",
    "id": "nuQd73KovmHo"
   },
   "source": [
    "Podemos también obtener el camino seguido para llegar de un nodo a otro. Para ello en este caso usamos un generador. Aunque parezca una función, podemos ver que no contiene al argumento _return_. "
   ]
  },
  {
   "cell_type": "markdown",
   "metadata": {
    "colab_type": "text",
    "id": "poXoH-s2vmHp"
   },
   "source": [
    "Cuando hablamos de generador nos referimos a \"funcion-generador\".\n",
    "Es una funcion normal, que contiene un \"yield\".\n",
    "Este concepto se utiliza para crear valores __iterables__, que gracias al \"yield\" nos van a devolver los valores de uno en uno, suspendiendo el proceso hasta que vuelve a ser llamado (generalmente, en la siguiente iteración del bucle)."
   ]
  },
  {
   "cell_type": "code",
   "execution_count": null,
   "metadata": {
    "colab": {},
    "colab_type": "code",
    "id": "YumoixspvmHp"
   },
   "outputs": [],
   "source": [
    "def bfs_paths(graph, start, goal):\n",
    "    queue = [(start, [start])] #generamos una lista de tuplas, con el valor del nodo y el camino\n",
    "    while queue:\n",
    "        (vertex, path) = queue.pop(0)\n",
    "        for elemento in graph[vertex] - set(path): \n",
    "            if elemento == goal:\n",
    "                yield path + [elemento] #si el nodo es el nodo final, para la ejecucción hasta que vuelva a recibir datos\n",
    "            else:\n",
    "                queue.append((elemento, path + [elemento]))"
   ]
  },
  {
   "cell_type": "markdown",
   "metadata": {
    "colab_type": "text",
    "id": "rnODuW4CvmHs"
   },
   "source": [
    "Observemos que el objeto resultante al aplicar el generador no devuelve nada, pues es un generador"
   ]
  },
  {
   "cell_type": "code",
   "execution_count": null,
   "metadata": {
    "colab": {
     "base_uri": "https://localhost:8080/",
     "height": 34
    },
    "colab_type": "code",
    "executionInfo": {
     "elapsed": 871,
     "status": "ok",
     "timestamp": 1573053248869,
     "user": {
      "displayName": "BBVA 1",
      "photoUrl": "",
      "userId": "06311651594133890427"
     },
     "user_tz": -60
    },
    "id": "1yRtJaaDvmHt",
    "outputId": "016313f9-668c-4245-c9a4-ca2a31dada1f"
   },
   "outputs": [],
   "source": [
    "bfs_paths(graph, 'A', 'F')"
   ]
  },
  {
   "cell_type": "markdown",
   "metadata": {
    "colab_type": "text",
    "id": "IK8l7GijvmHv"
   },
   "source": [
    "Para ello deberemos devolverlo en forma de un iterable, en este caso, una lista."
   ]
  },
  {
   "cell_type": "code",
   "execution_count": null,
   "metadata": {
    "colab": {
     "base_uri": "https://localhost:8080/",
     "height": 34
    },
    "colab_type": "code",
    "executionInfo": {
     "elapsed": 635,
     "status": "ok",
     "timestamp": 1573053251223,
     "user": {
      "displayName": "BBVA 1",
      "photoUrl": "",
      "userId": "06311651594133890427"
     },
     "user_tz": -60
    },
    "id": "KzrnRjO3vmHw",
    "outputId": "0d48b240-64b9-4dc7-e3cf-b3040e10b557"
   },
   "outputs": [],
   "source": [
    "list(bfs_paths(graph, 'A', 'F'))"
   ]
  },
  {
   "cell_type": "markdown",
   "metadata": {
    "colab_type": "text",
    "id": "DSRYgk0kvmHz"
   },
   "source": [
    "Existen dos caminos posibles del nodo 'A' a 'F'."
   ]
  },
  {
   "cell_type": "markdown",
   "metadata": {
    "colab_type": "text",
    "id": "Js1MLkSAvmHz"
   },
   "source": [
    "## Algoritmo DFS"
   ]
  },
  {
   "cell_type": "markdown",
   "metadata": {
    "colab_type": "text",
    "id": "jRuzLhz2vmH0"
   },
   "source": [
    "En este caso la búsqueda del algoritmo la hace en profundidad. Es decir, recorre el grafo desde el nodo de salida hasta los nodos extremos u hojas por cada una de las ramas. En este caso los niveles de cada nodo no son importantes."
   ]
  },
  {
   "cell_type": "markdown",
   "metadata": {
    "colab_type": "text",
    "id": "EnXNKS8hvmH0"
   },
   "source": [
    "<img src=\"img/dfs.png\">"
   ]
  },
  {
   "cell_type": "markdown",
   "metadata": {
    "colab_type": "text",
    "id": "v6dgcgG3vmH1"
   },
   "source": [
    "Vmaos a implementar, al igual que hicimos con BFS, nosotros el algoritmo. Pero esta vez lo haremos partiendo de un grafo definido con listas en lugar de sets"
   ]
  },
  {
   "cell_type": "code",
   "execution_count": null,
   "metadata": {
    "colab": {},
    "colab_type": "code",
    "id": "jVSoH6RWvmH2"
   },
   "outputs": [],
   "source": [
    "graph1 = {\n",
    "    'A' : ['B','S'],\n",
    "    'B' : ['A'],\n",
    "    'C' : ['D','E','F','S'],\n",
    "    'D' : ['C'],\n",
    "    'E' : ['C','H'],\n",
    "    'F' : ['C','G'],\n",
    "    'G' : ['F','S'],\n",
    "    'H' : ['E','G'],\n",
    "    'S' : ['A','C','G']\n",
    "}"
   ]
  },
  {
   "cell_type": "code",
   "execution_count": null,
   "metadata": {
    "colab": {},
    "colab_type": "code",
    "id": "oE4Z5IckvmH4"
   },
   "outputs": [],
   "source": [
    "def dfs(graph, node, visited):\n",
    "    if node not in visited:\n",
    "        visited.append(node)\n",
    "        for n in graph[node]:\n",
    "            dfs(graph,n, visited)\n",
    "    return visited"
   ]
  },
  {
   "cell_type": "code",
   "execution_count": null,
   "metadata": {
    "colab": {
     "base_uri": "https://localhost:8080/",
     "height": 34
    },
    "colab_type": "code",
    "executionInfo": {
     "elapsed": 1164,
     "status": "ok",
     "timestamp": 1573053260886,
     "user": {
      "displayName": "BBVA 1",
      "photoUrl": "",
      "userId": "06311651594133890427"
     },
     "user_tz": -60
    },
    "id": "Vm7xDsw4vmH6",
    "outputId": "d8e4f8c8-8e3e-45ee-ff95-2a05924e0e13"
   },
   "outputs": [],
   "source": [
    "visited = dfs(graph1,'A', [])\n",
    "print(visited)"
   ]
  },
  {
   "cell_type": "markdown",
   "metadata": {
    "colab_type": "text",
    "id": "Oc4MBUmivmH-"
   },
   "source": [
    "Si quisiéramos implementarlo para un grafo con sets, tal y como hicimos con BFS, nótese que la función es igual con la excepción de que la lista de vértices en este caso elimina el último elemento de la lista, en lugar dle primero"
   ]
  },
  {
   "cell_type": "code",
   "execution_count": null,
   "metadata": {
    "colab": {},
    "colab_type": "code",
    "id": "y0IpXuGKvmH_"
   },
   "outputs": [],
   "source": [
    "graph2 = {\n",
    "    'A' : set(['B','S']),\n",
    "    'B' : set(['A']),\n",
    "    'C' : set(['D','E','F','S']),\n",
    "    'D' : set(['C']),\n",
    "    'E' : set(['C','H']),\n",
    "    'F' : set(['C','G']),\n",
    "    'G' : set(['F','S']),\n",
    "    'H' : set(['E','G']),\n",
    "    'S' : set(['A','C','G'])\n",
    "}"
   ]
  },
  {
   "cell_type": "code",
   "execution_count": null,
   "metadata": {
    "colab": {},
    "colab_type": "code",
    "id": "Ihkc0ThYvmIA"
   },
   "outputs": [],
   "source": [
    "def dfs(graph, start):\n",
    "    visited, stack = set(), [start] #inicializamos el conjunto de nodos visitados a un set vacío\n",
    "    while stack:\n",
    "        vertex = stack.pop() #elimina el último elemento de la lista\n",
    "        if vertex not in visited:\n",
    "            visited.add(vertex)\n",
    "            stack.extend(graph[vertex] - visited)\n",
    "    return visited"
   ]
  },
  {
   "cell_type": "code",
   "execution_count": null,
   "metadata": {
    "colab": {
     "base_uri": "https://localhost:8080/",
     "height": 34
    },
    "colab_type": "code",
    "executionInfo": {
     "elapsed": 549,
     "status": "ok",
     "timestamp": 1573053270655,
     "user": {
      "displayName": "BBVA 1",
      "photoUrl": "",
      "userId": "06311651594133890427"
     },
     "user_tz": -60
    },
    "id": "xoRDerX4vmID",
    "outputId": "2bc48ea5-a67f-49ac-c52a-f35afc1d53ea"
   },
   "outputs": [],
   "source": [
    "dfs(graph2, 'A')"
   ]
  },
  {
   "cell_type": "markdown",
   "metadata": {
    "colab_type": "text",
    "id": "CsVmGG72vmIF"
   },
   "source": [
    "Hay que recordar que los sets son conjuntos no ordenados, por lo que el resultado al trabajar con sets nos devuelve el conjunto de vértices por los que pasa, pero no en qué orden. Al realizarlo con listas, sin embargo, si que obtenemos el orden al recorrer el grafo."
   ]
  },
  {
   "cell_type": "markdown",
   "metadata": {
    "colab_type": "text",
    "id": "DxcRroocvmIG"
   },
   "source": [
    "## Algoritmos de búsqueda con NetworkX"
   ]
  },
  {
   "cell_type": "markdown",
   "metadata": {
    "colab_type": "text",
    "id": "y-l61A7IvmIH"
   },
   "source": [
    "Vamos a definir el mismo grafo que teníamos para el ejemplo de dfs pero con networkx."
   ]
  },
  {
   "cell_type": "code",
   "execution_count": null,
   "metadata": {
    "colab": {},
    "colab_type": "code",
    "id": "g-Hr2K8AvmII"
   },
   "outputs": [],
   "source": [
    "G = nx.Graph()\n",
    "G.add_edge(\"A\",\"B\")\n",
    "G.add_edge(\"A\",\"S\")\n",
    "G.add_edge(\"C\",\"D\")\n",
    "G.add_edge(\"C\",\"E\")\n",
    "G.add_edge(\"C\",\"F\")\n",
    "G.add_edge(\"C\",\"S\")\n",
    "G.add_edge(\"E\",\"H\")\n",
    "G.add_edge(\"F\",\"G\")\n",
    "G.add_edge(\"H\",\"G\")\n",
    "G.add_edge(\"S\",\"G\")"
   ]
  },
  {
   "cell_type": "code",
   "execution_count": null,
   "metadata": {
    "colab": {
     "base_uri": "https://localhost:8080/",
     "height": 319
    },
    "colab_type": "code",
    "executionInfo": {
     "elapsed": 845,
     "status": "ok",
     "timestamp": 1573053277856,
     "user": {
      "displayName": "BBVA 1",
      "photoUrl": "",
      "userId": "06311651594133890427"
     },
     "user_tz": -60
    },
    "id": "ShmQRphSvmIK",
    "outputId": "f7f5adef-57cb-4dab-a2a6-f3587f23a553"
   },
   "outputs": [],
   "source": [
    "nx.draw(G, with_labels = True)\n",
    "plt.show()"
   ]
  },
  {
   "cell_type": "markdown",
   "metadata": {
    "colab_type": "text",
    "id": "WsARZCOmvmIQ"
   },
   "source": [
    "A continuación vamos a aplicar los métodos que iteran sobre el grafo utilizando _BFS_ y _DFS_. Ambos nos devuelven los pares de vértices en el orden que los va recorriendo. Para aplicar _BFS_ hay que indicar el vértice de origen. Podemos ver como a partir del vértice _S_ el camino no es el mismo."
   ]
  },
  {
   "cell_type": "code",
   "execution_count": null,
   "metadata": {
    "colab": {
     "base_uri": "https://localhost:8080/",
     "height": 151
    },
    "colab_type": "code",
    "executionInfo": {
     "elapsed": 937,
     "status": "ok",
     "timestamp": 1573053282232,
     "user": {
      "displayName": "BBVA 1",
      "photoUrl": "",
      "userId": "06311651594133890427"
     },
     "user_tz": -60
    },
    "id": "ng_bjoYrvmIR",
    "outputId": "fc96d2ff-03bc-42f2-fe72-fd99234c9cc7"
   },
   "outputs": [],
   "source": [
    "list(nx.dfs_edges(G))"
   ]
  },
  {
   "cell_type": "code",
   "execution_count": null,
   "metadata": {
    "colab": {
     "base_uri": "https://localhost:8080/",
     "height": 151
    },
    "colab_type": "code",
    "executionInfo": {
     "elapsed": 548,
     "status": "ok",
     "timestamp": 1573053285995,
     "user": {
      "displayName": "BBVA 1",
      "photoUrl": "",
      "userId": "06311651594133890427"
     },
     "user_tz": -60
    },
    "id": "ypJswoyqvmIU",
    "outputId": "f6b39f6c-8322-425e-96af-855695218862"
   },
   "outputs": [],
   "source": [
    "list(nx.bfs_edges(G, 'A'))"
   ]
  },
  {
   "cell_type": "markdown",
   "metadata": {
    "colab_type": "text",
    "id": "GFKaX3G5vmIX"
   },
   "source": [
    "Se puede visualizar el árbol que contruye al ir recorriendo los nodos para cada algoritmo de búsqueda."
   ]
  },
  {
   "cell_type": "code",
   "execution_count": null,
   "metadata": {
    "colab": {
     "base_uri": "https://localhost:8080/",
     "height": 319
    },
    "colab_type": "code",
    "executionInfo": {
     "elapsed": 1005,
     "status": "ok",
     "timestamp": 1573053289539,
     "user": {
      "displayName": "BBVA 1",
      "photoUrl": "",
      "userId": "06311651594133890427"
     },
     "user_tz": -60
    },
    "id": "jn9vgwI2vmIX",
    "outputId": "b36a3585-bd63-4905-c078-61e2e62b5e34"
   },
   "outputs": [],
   "source": [
    "nx.draw(nx.dfs_tree(G), with_labels = True)"
   ]
  },
  {
   "cell_type": "code",
   "execution_count": null,
   "metadata": {
    "colab": {
     "base_uri": "https://localhost:8080/",
     "height": 319
    },
    "colab_type": "code",
    "executionInfo": {
     "elapsed": 1392,
     "status": "ok",
     "timestamp": 1573053295044,
     "user": {
      "displayName": "BBVA 1",
      "photoUrl": "",
      "userId": "06311651594133890427"
     },
     "user_tz": -60
    },
    "id": "0JPRPrk1vmIZ",
    "outputId": "8488f265-f7fc-4999-b9ec-f929859b9bd8"
   },
   "outputs": [],
   "source": [
    "nx.draw(nx.bfs_tree(G, 'A'), with_labels = True)"
   ]
  },
  {
   "cell_type": "markdown",
   "metadata": {
    "colab_type": "text",
    "id": "o34FrwzdvmIb"
   },
   "source": [
    "networkx nos devuelve los nodos predecesores y sucesores de cada nodo, según el aĺgoritmo de búsqueda usado."
   ]
  },
  {
   "cell_type": "code",
   "execution_count": null,
   "metadata": {
    "colab": {
     "base_uri": "https://localhost:8080/",
     "height": 84
    },
    "colab_type": "code",
    "executionInfo": {
     "elapsed": 552,
     "status": "ok",
     "timestamp": 1573053300374,
     "user": {
      "displayName": "BBVA 1",
      "photoUrl": "",
      "userId": "06311651594133890427"
     },
     "user_tz": -60
    },
    "id": "k8xETIm4vmIc",
    "outputId": "e5c36990-b336-41de-a545-dd9231a0c708"
   },
   "outputs": [],
   "source": [
    "print(\"Aquí obtenemos los nodos predecesores para cada uno de ellos con DFS \\n\", nx.dfs_predecessors(G))\n",
    "print(\"Aquí obtenemos los nodos sucesores para cada uno de ellos \\n\", nx.dfs_successors(G))"
   ]
  },
  {
   "cell_type": "code",
   "execution_count": null,
   "metadata": {
    "colab": {
     "base_uri": "https://localhost:8080/",
     "height": 84
    },
    "colab_type": "code",
    "executionInfo": {
     "elapsed": 714,
     "status": "ok",
     "timestamp": 1573053303668,
     "user": {
      "displayName": "BBVA 1",
      "photoUrl": "",
      "userId": "06311651594133890427"
     },
     "user_tz": -60
    },
    "id": "INYx3WXovmIe",
    "outputId": "cb395e98-7268-4477-9105-25cbfc6be652"
   },
   "outputs": [],
   "source": [
    "print(\"Aquí obtenemos los nodos predecesores para cada uno de ellos con BFS \\n\", list(nx.bfs_predecessors(G, 'A')))\n",
    "print(\"Aquí obtenemos los nodos sucesores para cada uno de ellos \\n\", list(nx.bfs_successors(G, 'A')))"
   ]
  },
  {
   "cell_type": "markdown",
   "metadata": {
    "colab_type": "text",
    "id": "HG2socBUvmIh"
   },
   "source": [
    "Podemos ver como con _DFS_ el nodo predecesor de _G_ es _H_ mientras que con _BFS_ es _S_."
   ]
  }
 ],
 "metadata": {
  "colab": {
   "collapsed_sections": [],
   "name": "3.1_Graph_algorithms.ipynb",
   "provenance": []
  },
  "kernelspec": {
   "display_name": "Python 3",
   "language": "python",
   "name": "python3"
  },
  "language_info": {
   "codemirror_mode": {
    "name": "ipython",
    "version": 3
   },
   "file_extension": ".py",
   "mimetype": "text/x-python",
   "name": "python",
   "nbconvert_exporter": "python",
   "pygments_lexer": "ipython3",
   "version": "3.7.3"
  }
 },
 "nbformat": 4,
 "nbformat_minor": 4
}
